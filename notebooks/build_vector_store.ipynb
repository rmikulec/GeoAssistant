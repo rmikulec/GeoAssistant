{
 "cells": [
  {
   "cell_type": "markdown",
   "id": "4ab4196e",
   "metadata": {},
   "source": [
    "# Building the Field Definition Vector Store\n",
    "\n",
    "Notebook will look at using openai and FAISS to build a vector store of field defintions"
   ]
  },
  {
   "cell_type": "markdown",
   "id": "6e6c314d",
   "metadata": {},
   "source": [
    "## Parse Documents\n",
    "\n",
    "Need to create a documents store, as well as ids and associated metadata. All of this will be parsed from a previously parsed data dictionary json file (see the [field_def_parsing](field_def_parsing.ipynb) notebook)"
   ]
  },
  {
   "cell_type": "code",
   "execution_count": 15,
   "id": "5aaac612",
   "metadata": {},
   "outputs": [
    {
     "data": {
      "text/plain": [
       "{'name': 'OwnerName',\n",
       " 'name_pretty': 'OWNER NAME',\n",
       " 'description': 'The name of the owner of the tax lot. For publicly owned tax lots, owner names have been normalized.',\n",
       " 'source': 'Department of Finance - Property Tax System (PTS), Department of City Planning – PLUTO_input_research.csv , field ownername',\n",
       " 'format': 'str'}"
      ]
     },
     "execution_count": 15,
     "metadata": {},
     "output_type": "execute_result"
    }
   ],
   "source": [
    "import json\n",
    "import pathlib\n",
    "\n",
    "dict_path = pathlib.Path(\"../pluto/parsed_data_dictionary.json\")\n",
    "\n",
    "data_dictionary = json.loads(dict_path.read_text())\n",
    "data_dictionary['field_defintions'][34]"
   ]
  },
  {
   "cell_type": "code",
   "execution_count": 19,
   "id": "01f7fecc",
   "metadata": {},
   "outputs": [
    {
     "name": "stdout",
     "output_type": "stream",
     "text": [
      "{\n",
      "  \"id\": 3,\n",
      "  \"text\": \"COMMUNITY DISTRICT: The community district (CD) or joint interest area (JIA) for the tax lot. The city is divided into 59 community districts and 12 joint interest areas, which are large parks or airports not part of any community district. This field consists of three digits, the first of which is the borough code (see BORO CODE). The second and third digits are the community district or joint interest area number.\",\n",
      "  \"metadata\": {\n",
      "    \"source\": \"Department of City Planning \\u2013 Geosupport System, Department of City Planning \\u2013 Administrative District Base Map files\",\n",
      "    \"format\": \"int\",\n",
      "    \"name\": \"CD\"\n",
      "  }\n",
      "}\n"
     ]
    }
   ],
   "source": [
    "docs = []\n",
    "\n",
    "for i, field_def in enumerate(data_dictionary['field_defintions']):\n",
    "    docs.append(\n",
    "        {\n",
    "            \"id\": i,\n",
    "            \"text\": f\"{field_def['name_pretty']}: {field_def['description']}\",\n",
    "            \"metadata\": {\n",
    "                \"source\": field_def['source'],\n",
    "                \"format\": field_def['format'],\n",
    "                \"name\": field_def['name']\n",
    "            }\n",
    "        }\n",
    "    )\n",
    "\n",
    "print(json.dumps(docs[3], indent=2))"
   ]
  },
  {
   "cell_type": "markdown",
   "id": "089a6723",
   "metadata": {},
   "source": [
    "## Embed the Documents\n",
    "\n",
    "Going to use OpenAI to Embed the documents to a vector space"
   ]
  },
  {
   "cell_type": "code",
   "execution_count": 31,
   "id": "fba77f78",
   "metadata": {},
   "outputs": [],
   "source": [
    "import openai\n",
    "\n",
    "client = openai.OpenAI(api_key=pathlib.Path(\"../openai.key\").read_text())\n",
    "\n",
    "resp = client.embeddings.create(\n",
    "    model=\"text-embedding-3-small\",\n",
    "    input=[d['text'] for d in docs]\n",
    ")\n",
    "# extract the vector\n",
    "for embedding_data, doc in zip(resp.data, docs):\n",
    "    doc['embedding'] = embedding_data.embedding"
   ]
  },
  {
   "cell_type": "markdown",
   "id": "13f47adc",
   "metadata": {},
   "source": [
    "## Create the Index"
   ]
  },
  {
   "cell_type": "code",
   "execution_count": 33,
   "id": "6ef83bde",
   "metadata": {},
   "outputs": [],
   "source": [
    "import faiss\n",
    "import numpy as np\n",
    "\n",
    "embeddings_np = np.array([doc['embedding'] for doc in docs], dtype=\"float32\")\n",
    "dim = embeddings_np.shape[1]\n",
    "\n",
    "# we'll use a simple L2 index wrapped in an ID map\n",
    "index = faiss.IndexFlatL2(dim)\n",
    "index = faiss.IndexIDMap(index)\n",
    "\n",
    "# Assign Ids\n",
    "index.add_with_ids(embeddings_np, [doc['id'] for doc in docs])\n",
    "\n",
    "# store metadata in a dict keyed by the same integer id\n",
    "metadata_store = {doc['id']: doc[\"metadata\"] for doc in docs}"
   ]
  },
  {
   "cell_type": "markdown",
   "id": "e556e259",
   "metadata": {},
   "source": [
    "## Test the searching"
   ]
  },
  {
   "cell_type": "code",
   "execution_count": 36,
   "id": "575eb59f",
   "metadata": {},
   "outputs": [
    {
     "name": "stdout",
     "output_type": "stream",
     "text": [
      "1. id=47 (score=1.2399)\n",
      "   text: NUMBER OF FLOORS: The number of full and partial floors starting from the ground floor, for the tallest building on the tax lot. A partial floor is a floor that does not span the entire building envelope.\n",
      "   metadata: {'source': 'Department of Finance – Property Tax System (PTS)', 'format': 'float', 'name': 'NumFloors'}\n",
      "\n",
      "2. id=46 (score=1.2841)\n",
      "   text: NUMBER OF BUILDINGS: The number of buildings on the tax lot. Calculated by taking the Building Identification Number (BIN) for every building in DoITT’s Building Footprints dataset and summing the number of buildings per tax lot.\n",
      "   metadata: {'source': 'Department of Information Technology and Telecommunications – Building Footprints, Department of City Planning – Geosupport System, Department of Finance – Property Tax System (PTS)', 'format': 'int', 'name': 'NumBldgs'}\n",
      "\n"
     ]
    }
   ],
   "source": [
    "query = \"Show me where the buildings are less than 2 stories?\"\n",
    "q_emb = client.embeddings.create(\n",
    "    model=\"text-embedding-3-small\",\n",
    "    input=[query]\n",
    ").data[0].embedding\n",
    "q_np = np.array([q_emb], dtype=\"float32\")\n",
    "\n",
    "# retrieve top-2 nearest neighbors\n",
    "k = 2\n",
    "distances, neighbors = index.search(q_np, k)\n",
    "\n",
    "for rank, (idx, dist) in enumerate(zip(neighbors[0], distances[0]), start=1):\n",
    "    doc = docs[idx]\n",
    "    meta = metadata_store[idx]\n",
    "    print(f\"{rank}. id={doc['id']} (score={dist:.4f})\")\n",
    "    print(f\"   text: {doc['text']}\")\n",
    "    print(f\"   metadata: {meta}\\n\")"
   ]
  },
  {
   "cell_type": "code",
   "execution_count": 37,
   "id": "a6134286",
   "metadata": {},
   "outputs": [
    {
     "name": "stdout",
     "output_type": "stream",
     "text": [
      "1. id=19 (score=1.1241)\n",
      "   text: ZONING DISTRICT 1: The zoning district classification of the tax lot. Under the Zoning Resolution, the map of New York City is generally apportioned into three basic zoning district categories: Residence (R), Commercial (C) and Manufacturing (M), which are further divided into a range of individual zoning districts, denoted by different number and letter combinations.\n",
      "   metadata: {'source': 'Department of City Planning NYC GIS Zoning Features', 'format': 'str', 'name': 'ZoneDist1'}\n",
      "\n",
      "2. id=71 (score=1.1729)\n",
      "   text: BORO CODE: The borough in which the tax lot is located. Each code represents a specific borough.\n",
      "   metadata: {'source': 'Department of Finance - Property Tax System (PTS)', 'format': 'int', 'name': 'BoroCode'}\n",
      "\n"
     ]
    }
   ],
   "source": [
    "query = \"Show me parcels with R2 zoning in Brooklyn.\"\n",
    "q_emb = client.embeddings.create(\n",
    "    model=\"text-embedding-3-small\",\n",
    "    input=[query]\n",
    ").data[0].embedding\n",
    "q_np = np.array([q_emb], dtype=\"float32\")\n",
    "\n",
    "# retrieve top-2 nearest neighbors\n",
    "k = 2\n",
    "distances, neighbors = index.search(q_np, k)\n",
    "\n",
    "for rank, (idx, dist) in enumerate(zip(neighbors[0], distances[0]), start=1):\n",
    "    doc = docs[idx]\n",
    "    meta = metadata_store[idx]\n",
    "    print(f\"{rank}. id={doc['id']} (score={dist:.4f})\")\n",
    "    print(f\"   text: {doc['text']}\")\n",
    "    print(f\"   metadata: {meta}\\n\")"
   ]
  },
  {
   "cell_type": "markdown",
   "id": "2f9683d3",
   "metadata": {},
   "source": [
    "## Conclusions"
   ]
  },
  {
   "cell_type": "markdown",
   "id": "8f472e7e",
   "metadata": {},
   "source": [
    "Seems to be working great! Next step is to codify this notebook and the [field_def_parsing](field_def_parsing.ipynb) notebook!"
   ]
  },
  {
   "cell_type": "markdown",
   "id": "14f53de6",
   "metadata": {},
   "source": []
  }
 ],
 "metadata": {
  "kernelspec": {
   "display_name": "gis",
   "language": "python",
   "name": "python3"
  },
  "language_info": {
   "codemirror_mode": {
    "name": "ipython",
    "version": 3
   },
   "file_extension": ".py",
   "mimetype": "text/x-python",
   "name": "python",
   "nbconvert_exporter": "python",
   "pygments_lexer": "ipython3",
   "version": "3.13.2"
  }
 },
 "nbformat": 4,
 "nbformat_minor": 5
}
