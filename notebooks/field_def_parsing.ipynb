{
 "cells": [
  {
   "cell_type": "markdown",
   "id": "645ba7a2",
   "metadata": {},
   "source": [
    "# Parsing Field Definitions from a Data Dictionary\n",
    "\n",
    "For this project, the Pluto Parcel data set comes with a ~100 page data dictionary pdf. This pdf must\n",
    "be parsed, creating sturctured data that can then be stored in the FAISS vector store"
   ]
  },
  {
   "cell_type": "markdown",
   "id": "c65cfecc",
   "metadata": {},
   "source": [
    "## Parsing Text\n",
    "\n",
    "First step of this will be to parse the actual text from the PDF. Going to us PyPDF2 to start, if this proves to be not working, then a multi-modal approach can be tried"
   ]
  },
  {
   "cell_type": "code",
   "execution_count": 1,
   "id": "2fe6b0e0",
   "metadata": {},
   "outputs": [],
   "source": [
    "from PyPDF2 import PdfReader\n",
    "\n",
    "reader = PdfReader(\"../pluto/pluto_datadictionary.pdf\")\n",
    "number_of_pages = len(reader.pages)\n",
    "page = reader.pages[4]\n",
    "text = page.extract_text()"
   ]
  },
  {
   "cell_type": "code",
   "execution_count": 2,
   "id": "0b7e3d88",
   "metadata": {},
   "outputs": [
    {
     "name": "stdout",
     "output_type": "stream",
     "text": [
      "PLUTO DATA DICTIONARY April 2025 (25v1.1) \n",
      " \n",
      "5 \n",
      " Description:  The number of the tax lot. \n",
      " \n",
      "This field contains a one to four-digit tax lot number. \n",
      " \n",
      "Each tax lot is unique within a tax block (see TAX BLOCK). \n",
      " \n",
      "Special handling for condominiums: \n",
      " In a condominium complex, each condominium  unit is a separate tax lot and has its \n",
      "own lot number. In a residential condominiu m, the condominium units are generally \n",
      "the individual apartments; in a commercial c ondominium, the units might be floors in \n",
      "an office building, individual retail shops, or blocks of office space. These unit lot \n",
      "numbers have values be tween 1001 – 6999.  \n",
      " Each unit tax lot has an associated billin g lot number, with values between 7501 – \n",
      "7599. Lots in a condominium complex on th e same block will have the same billing \n",
      "lot number. To make condominium inform ation more compatible with parcel \n",
      "information, the Department of City Pl anning aggregates condominium unit tax lot \n",
      "information to the billing lot. For exampl e, if a residential condominium building \n",
      "contains 20 units, the Department of Fina nce will assign 20 unit lot numbers and each \n",
      "of these lot numbers will have the same billing lot number. PLUTO will contain one record with the billing lot number and RESIDENTIAL UNITS will be set to 20. \n",
      " \n",
      "If the Department of Finance has not yet assigned a billing lot number to the condominium complex, PLUTO uses the lowest  unit lot number within the complex. \n",
      " Note on MapPLUTO: The Department of Fi nance Digital Tax Map (DTM) contains \n",
      "the geography of the base lot for condom iniums. The base lot is also called the \n",
      "“Formerly Known As” or FKA lot. For mo st condominium complexes, there is one \n",
      "base lot per billing lot. In using the DT M to create MapPLUTO, DCP replaces the \n",
      "base lot number with the billing lot number. If there is more than one base lot with the \n",
      "same billing lot number, DCP merges the base lots to create a geography for the billing lot.  \n",
      " \n",
      "Under certain circumstances, DCP is unabl e to aggregate condominium unit tax lot \n",
      "information to the billing lot or to the lo west unit lot number. This occurs when a \n",
      "CONDOMINIUM NUMBER has not yet been assigned to the unit lots in PTS. In \n",
      "most cases, these unit lots will appear in PLUTO and in the NOT_MAPPED_LOTS \n",
      "table that is released with MapPLU TO. Before including these unit lots, the \n",
      "data is checked to verify that it pertains only to the unit lot. If unit lots have an identical address and a value for RESIDENTIAL UNITS that is greater than 1 and the same for all records, and there is no matc hing BBL in the DTM, they are assumed to \n",
      "part of the same condominium. BUILDING AR EA is checked in the same way. These \n",
      "unit lots are removed from PLUTO  and NOT_MAPPED_LOTS to avoid \n",
      "overcounting the number of residential units and building area. \n",
      " \n",
      " \n",
      "Field Name: COMMUNITY DISTRICT  (CD)  \n",
      "Format:  Numeric - 3 digits (999) \n",
      " \n"
     ]
    }
   ],
   "source": [
    "print(text)"
   ]
  },
  {
   "cell_type": "markdown",
   "id": "8d2412e9",
   "metadata": {},
   "source": [
    "## Data Models\n",
    "\n",
    "When reviewing the document, it looks like 3 different types of data \"elements\" can be extracted\n",
    "\n",
    "1. `FieldDefinition`: A field name, desc, format, etc\n",
    "1. `Abbreviation`: Abbreviations and its full value\n",
    "1. `CodeLookip`: Code to value lookups"
   ]
  },
  {
   "cell_type": "code",
   "execution_count": 3,
   "id": "67021349",
   "metadata": {},
   "outputs": [],
   "source": [
    "from pydantic import BaseModel, Field\n",
    "from typing import Literal\n",
    "\n",
    "\n",
    "class FieldDefinition(BaseModel):\n",
    "    name: str = Field(description=\"The direct name of the field\")\n",
    "    name_pretty: str = Field(description=\"A well formatted name of the field\")\n",
    "    description: str = Field(description=\"The entire description for the field. Format as markdown if needed\")\n",
    "    source: str = Field(description=\"description of where the data comes from\")\n",
    "    format: Literal['str', 'int', 'float'] = Field(description=\"The python primitive type of the field\")\n",
    "\n",
    "\n",
    "class Abbreviation(BaseModel):\n",
    "    abbreviation: str\n",
    "    description: str\n",
    "\n",
    "\n",
    "class Code(BaseModel):\n",
    "    code: str\n",
    "    description: str\n",
    "\n",
    "class CodeLookup(BaseModel):\n",
    "    name: str\n",
    "    lookup: list[Code]\n",
    "\n",
    "\n",
    "class DataDictionary(BaseModel):\n",
    "    field_defintions: list[FieldDefinition]\n",
    "    abbreviations: list[Abbreviation]\n",
    "    codes: list[CodeLookup]"
   ]
  },
  {
   "cell_type": "markdown",
   "id": "96144ed3",
   "metadata": {},
   "source": [
    "## Attempting a Single Page\n",
    "\n",
    "Next is to attempt this response model on a single page, using OpenAI SDK"
   ]
  },
  {
   "cell_type": "code",
   "execution_count": 10,
   "id": "cec3f4e0",
   "metadata": {},
   "outputs": [],
   "source": [
    "import openai\n",
    "import pathlib\n",
    "\n",
    "client = openai.OpenAI(api_key=pathlib.Path(\"../openai.key\").read_text())\n",
    "\n",
    "system_message = \"\"\"\n",
    "You are an AI assistant specialized in extracting structured information from a data dictionary PDF. You will be given the complete, page-by-page text of a data dictionary (tables and entries may be split across pages). Your job is to:\n",
    "\n",
    "1. Consolidate any multi-page or fragmented entries.\n",
    "2. Extract all field definitions into FieldDefinition objects, capturing:\n",
    "   - name\n",
    "   - name_pretty\n",
    "   - description (preserve markdown where appropriate)\n",
    "   - source\n",
    "   - format (one of 'str', 'int', or 'float')\n",
    "3. Extract all abbreviations into Abbreviation objects.\n",
    "4. Extract all code lookups into CodeLookup objects, each containing a list of Code items (code + description).\n",
    "\n",
    "Produce exactly one JSON object matching the `DataDictionary` Pydantic schema (with keys `field_definitions`, `abbreviations`, and `codes`) and nothing else. Do not include any explanatory text or metadata—only the JSON output. \n",
    "\n",
    "\"\"\"\n",
    "\n",
    "res = client.responses.parse(\n",
    "    model=\"gpt-4o-2024-08-06\",\n",
    "    input=[\n",
    "        {'role': 'system', 'content': system_message},\n",
    "        {'role': 'user', 'content': text}\n",
    "    ],\n",
    "    text_format=DataDictionary\n",
    ")"
   ]
  },
  {
   "cell_type": "code",
   "execution_count": 11,
   "id": "a8d4d43c",
   "metadata": {},
   "outputs": [
    {
     "name": "stdout",
     "output_type": "stream",
     "text": [
      "{\n",
      "  \"field_defintions\": [\n",
      "    {\n",
      "      \"name\": \"lot\",\n",
      "      \"name_pretty\": \"Lot\",\n",
      "      \"description\": \"The number of the tax lot.  \\n\\nThis field contains a one to four-digit tax lot number.  \\n\\nEach tax lot is unique within a tax block (see TAX BLOCK).  \\n\\nSpecial handling for condominiums:  In a condominium complex, each condominium unit is a separate tax lot and has its own lot number. In a residential condominium, the condominium units are generally the individual apartments; in a commercial condominium, the units might be floors in an office building, individual retail shops, or blocks of office space. These unit lot numbers have values between 1001 – 6999.  \\n\\nEach unit tax lot has an associated billing lot number, with values between 7501 – 7599. Lots in a condominium complex on the same block will have the same billing lot number. To make condominium information more compatible with parcel information, the Department of City Planning aggregates condominium unit tax lot information to the billing lot. For example, if a residential condominium building contains 20 units, the Department of Finance will assign 20 unit lot numbers and each of these lot numbers will have the same billing lot number. PLUTO will contain one record with the billing lot number and RESIDENTIAL UNITS will be set to 20.  \\n\\nIf the Department of Finance has not yet assigned a billing lot number to the condominium complex, PLUTO uses the lowest unit lot number within the complex. Note on MapPLUTO: The Department of Finance Digital Tax Map (DTM) contains the geography of the base lot for condominiums. The base lot is also called the \\\"Formerly Known As\\\" or FKA lot. For most condominium complexes, there is one base lot per billing lot. In using the DTM to create MapPLUTO, DCP replaces the base lot number with the billing lot number. If there is more than one base lot with the same billing lot number, DCP merges the base lots to create a geography for the billing lot.  \\n\\nUnder certain circumstances, DCP is unable to aggregate condominium unit tax lot information to the billing lot or to the lowest unit lot number. This occurs when a CONDOMINIUM NUMBER has not yet been assigned to the unit lots in PTS. In most cases, these unit lots will appear in PLUTO and in the NOT_MAPPED_LOTS table that is released with MapPLUTO. Before including these unit lots, the data is checked to verify that it pertains only to the unit lot. If unit lots have an identical address and a value for RESIDENTIAL UNITS that is greater than 1 and the same for all records, and there is no matching BBL in the DTM, they are assumed to be part of the same condominium. BUILDING AREA is checked in the same way. These unit lots are removed from PLUTO and NOT_MAPPED_LOTS to avoid overcounting the number of residential units and building area.\",\n",
      "      \"source\": \"Department of City Planning\",\n",
      "      \"format\": \"str\"\n",
      "    },\n",
      "    {\n",
      "      \"name\": \"cd\",\n",
      "      \"name_pretty\": \"Community District\",\n",
      "      \"description\": \"The numeric community district code, formatted as a 3-digit number (e.g., 999). This field represents the community district identifier.\",\n",
      "      \"source\": \"Unknown\",\n",
      "      \"format\": \"int\"\n",
      "    }\n",
      "  ],\n",
      "  \"abbreviations\": [],\n",
      "  \"codes\": []\n",
      "}\n"
     ]
    }
   ],
   "source": [
    "print(res.output_parsed.model_dump_json(indent=2))"
   ]
  },
  {
   "cell_type": "markdown",
   "id": "bcafe595",
   "metadata": {},
   "source": [
    "## Entire document\n",
    "\n",
    "Next is to try to send the entire doc in one call. This may fail due to it being too large, but gonna give it a shot"
   ]
  },
  {
   "cell_type": "code",
   "execution_count": 12,
   "id": "83383b54",
   "metadata": {},
   "outputs": [
    {
     "name": "stdout",
     "output_type": "stream",
     "text": [
      "108757\n"
     ]
    }
   ],
   "source": [
    "all_text = \"\"\n",
    "\n",
    "for page_num, page in enumerate(reader.pages):\n",
    "    all_text += f\"## Page {page_num} \\n\"\n",
    "    all_text += page.extract_text()\n",
    "    all_text += \"\\n\"\n",
    "\n",
    "print(len(all_text))"
   ]
  },
  {
   "cell_type": "code",
   "execution_count": 13,
   "id": "8f3504a1",
   "metadata": {},
   "outputs": [],
   "source": [
    "res = client.responses.parse(\n",
    "    model=\"gpt-4o-2024-08-06\",\n",
    "    input=[\n",
    "        {'role': 'system', 'content': system_message},\n",
    "        {'role': 'user', 'content': all_text}\n",
    "    ],\n",
    "    text_format=DataDictionary\n",
    ")"
   ]
  },
  {
   "cell_type": "code",
   "execution_count": 14,
   "id": "88dd8807",
   "metadata": {},
   "outputs": [
    {
     "name": "stdout",
     "output_type": "stream",
     "text": [
      "N Fields: 92\n",
      "N Abbreviations: 73\n",
      "N Codes: 11\n"
     ]
    }
   ],
   "source": [
    "parsed_dictionary = res.output_parsed\n",
    "\n",
    "print(f\"N Fields: {len(parsed_dictionary.field_defintions)}\")\n",
    "print(f\"N Abbreviations: {len(parsed_dictionary.abbreviations)}\")\n",
    "print(f\"N Codes: {len(parsed_dictionary.codes)}\")"
   ]
  },
  {
   "cell_type": "markdown",
   "id": "aa74c0de",
   "metadata": {},
   "source": [
    "## Data Check\n",
    "\n",
    "Manually checking a couple of the parsed data"
   ]
  },
  {
   "cell_type": "code",
   "execution_count": 16,
   "id": "29aa5582",
   "metadata": {},
   "outputs": [
    {
     "name": "stdout",
     "output_type": "stream",
     "text": [
      "{\n",
      "  \"name\": \"SanitBoro\",\n",
      "  \"name_pretty\": \"SANITATION DISTRICT BORO\",\n",
      "  \"description\": \"The borough of the sanitation district that services the tax lot.\",\n",
      "  \"source\": \"Department of City Planning – Geosupport System, Department of City Planning – Administrative District Base Map files\",\n",
      "  \"format\": \"int\"\n",
      "}\n"
     ]
    }
   ],
   "source": [
    "print(parsed_dictionary.field_defintions[15].model_dump_json(indent=2))"
   ]
  },
  {
   "cell_type": "code",
   "execution_count": 17,
   "id": "5e05b082",
   "metadata": {},
   "outputs": [
    {
     "name": "stdout",
     "output_type": "stream",
     "text": [
      "{\n",
      "  \"abbreviation\": \"C\",\n",
      "  \"description\": \"Special Grand Concourse Preservation District\"\n",
      "}\n"
     ]
    }
   ],
   "source": [
    "print(parsed_dictionary.abbreviations[15].model_dump_json(indent=2))"
   ]
  },
  {
   "cell_type": "code",
   "execution_count": 19,
   "id": "3e4269a4",
   "metadata": {},
   "outputs": [
    {
     "name": "stdout",
     "output_type": "stream",
     "text": [
      "{\n",
      "  \"name\": \"Land Use Categories\",\n",
      "  \"lookup\": [\n",
      "    {\n",
      "      \"code\": \"01\",\n",
      "      \"description\": \"One & Two Family Buildings\"\n",
      "    },\n",
      "    {\n",
      "      \"code\": \"02\",\n",
      "      \"description\": \"Multi-Family Walk-Up Buildings\"\n",
      "    },\n",
      "    {\n",
      "      \"code\": \"03\",\n",
      "      \"description\": \"Multi-Family Elevator Buildings\"\n",
      "    },\n",
      "    {\n",
      "      \"code\": \"04\",\n",
      "      \"description\": \"Mixed Residential & Commercial Buildings\"\n",
      "    },\n",
      "    {\n",
      "      \"code\": \"05\",\n",
      "      \"description\": \"Commercial & Office Buildings\"\n",
      "    },\n",
      "    {\n",
      "      \"code\": \"06\",\n",
      "      \"description\": \"Industrial & Manufacturing Buildings\"\n",
      "    },\n",
      "    {\n",
      "      \"code\": \"07\",\n",
      "      \"description\": \"Transportation & Utility\"\n",
      "    },\n",
      "    {\n",
      "      \"code\": \"08\",\n",
      "      \"description\": \"Public Facilities & Institutions\"\n",
      "    },\n",
      "    {\n",
      "      \"code\": \"09\",\n",
      "      \"description\": \"Open Space & Outdoor Recreation\"\n",
      "    },\n",
      "    {\n",
      "      \"code\": \"10\",\n",
      "      \"description\": \"Parking Facilities\"\n",
      "    },\n",
      "    {\n",
      "      \"code\": \"11\",\n",
      "      \"description\": \"Vacant Land\"\n",
      "    }\n",
      "  ]\n",
      "}\n"
     ]
    }
   ],
   "source": [
    "print(parsed_dictionary.codes[3].model_dump_json(indent=2))"
   ]
  },
  {
   "cell_type": "markdown",
   "id": "529bc9f4",
   "metadata": {},
   "source": [
    "## Conclusions\n",
    "\n",
    "The parsed field defintions look Ok for a first passing, this could be something improved upon later.\n",
    "\n",
    "For the Abbreviations / Code Lookups, this data may be better to preserve the original format, so that text\n",
    "will be passed directly into the system message of the geo assisstant for this project"
   ]
  },
  {
   "cell_type": "code",
   "execution_count": 27,
   "id": "de9eab9a",
   "metadata": {},
   "outputs": [],
   "source": [
    "import json\n",
    "\n",
    "export_path = pathlib.Path(\"../pluto/parsed_data_dictionary.json\")\n",
    "export_path.parent.mkdir(parents=True, exist_ok=True)\n",
    "json.dump(parsed_dictionary.model_dump(), open(export_path, \"w\"), indent=2)"
   ]
  },
  {
   "cell_type": "code",
   "execution_count": null,
   "id": "7bf0b3c8",
   "metadata": {},
   "outputs": [],
   "source": []
  }
 ],
 "metadata": {
  "kernelspec": {
   "display_name": "gis",
   "language": "python",
   "name": "python3"
  },
  "language_info": {
   "codemirror_mode": {
    "name": "ipython",
    "version": 3
   },
   "file_extension": ".py",
   "mimetype": "text/x-python",
   "name": "python",
   "nbconvert_exporter": "python",
   "pygments_lexer": "ipython3",
   "version": "3.13.2"
  }
 },
 "nbformat": 4,
 "nbformat_minor": 5
}
